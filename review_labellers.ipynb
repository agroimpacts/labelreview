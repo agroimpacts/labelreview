{
 "cells": [
  {
   "cell_type": "markdown",
   "id": "b12410b9-0e56-41dd-8a49-0bc2294059ab",
   "metadata": {},
   "source": [
    "## Evaluate Progress of Labellers\n",
    "\n",
    "Use this notebook to evaluate the progress of labellers and to inspect their labels against imagery. "
   ]
  },
  {
   "cell_type": "markdown",
   "id": "0443506e-895e-4537-b501-7b77f9a2b238",
   "metadata": {},
   "source": [
    "## Set-up "
   ]
  },
  {
   "cell_type": "code",
   "execution_count": 1,
   "id": "56adf2a5",
   "metadata": {},
   "outputs": [],
   "source": [
    "import os\n",
    "import sys\n",
    "import pandas as pd\n",
    "module_path = os.path.abspath(os.path.join('src'))\n",
    "sys.path.insert(0, module_path)\n",
    "\n",
    "from labelreview import labelReview"
   ]
  },
  {
   "cell_type": "markdown",
   "id": "1bc37892-1a27-4ad2-a54a-59a78cae2dba",
   "metadata": {},
   "source": [
    "## Get assignment data"
   ]
  },
  {
   "cell_type": "code",
   "execution_count": 2,
   "id": "3bec5514",
   "metadata": {},
   "outputs": [],
   "source": [
    "lr = labelReview(config=\"config-db.yaml\")\n",
    "query = \\\n",
    "    \"SELECT name,hit_id,assignment_id,worker_id,email,score,status,kml_type \"\\\n",
    "    \"FROM assignment_data \"\\\n",
    "    \"LEFT JOIN hit_data USING (hit_id) \"\\\n",
    "    \"LEFT JOIN kml_data USING (name) \"\\\n",
    "    \"LEFT JOIN users ON assignment_data.worker_id = users.id\"\n",
    "assignments = lr.get_data(query)"
   ]
  },
  {
   "cell_type": "markdown",
   "id": "ddcda87a-e5a5-45d4-ae11-061223db5395",
   "metadata": {},
   "source": [
    "### Summarize assignment counts and score"
   ]
  },
  {
   "cell_type": "code",
   "execution_count": 3,
   "id": "e4ce73db-2e2c-4f48-98ba-5639e02bfd3a",
   "metadata": {},
   "outputs": [],
   "source": [
    "counts = assignments[[\"worker_id\", \"email\", \"kml_type\"]]\\\n",
    "    .groupby([\"worker_id\", \"email\", \"kml_type\"], as_index=False)\\\n",
    "    .value_counts()\n",
    "\n",
    "scores = assignments[[\"worker_id\", \"score\"]]\\\n",
    "    .groupby(\"worker_id\", as_index=False)\\\n",
    "    .mean(\"score\")"
   ]
  },
  {
   "cell_type": "markdown",
   "id": "1eb4a7c9-65ca-4f56-a531-661ef9488fb9",
   "metadata": {},
   "source": [
    "Assignment counts"
   ]
  },
  {
   "cell_type": "code",
   "execution_count": 4,
   "id": "5a1f99a9-9545-46a0-be8b-5d34dccc8f2a",
   "metadata": {},
   "outputs": [
    {
     "data": {
      "text/html": [
       "<div>\n",
       "<style scoped>\n",
       "    .dataframe tbody tr th:only-of-type {\n",
       "        vertical-align: middle;\n",
       "    }\n",
       "\n",
       "    .dataframe tbody tr th {\n",
       "        vertical-align: top;\n",
       "    }\n",
       "\n",
       "    .dataframe thead th {\n",
       "        text-align: right;\n",
       "    }\n",
       "</style>\n",
       "<table border=\"1\" class=\"dataframe\">\n",
       "  <thead>\n",
       "    <tr style=\"text-align: right;\">\n",
       "      <th></th>\n",
       "      <th>kml_type</th>\n",
       "      <th>F</th>\n",
       "      <th>Q</th>\n",
       "    </tr>\n",
       "    <tr>\n",
       "      <th>worker_id</th>\n",
       "      <th>email</th>\n",
       "      <th></th>\n",
       "      <th></th>\n",
       "    </tr>\n",
       "  </thead>\n",
       "  <tbody>\n",
       "    <tr>\n",
       "      <th>10</th>\n",
       "      <th>stanitebros@gmail.com</th>\n",
       "      <td>497</td>\n",
       "      <td>63</td>\n",
       "    </tr>\n",
       "    <tr>\n",
       "      <th>11</th>\n",
       "      <th>pacyedward@gmail.com</th>\n",
       "      <td>517</td>\n",
       "      <td>60</td>\n",
       "    </tr>\n",
       "    <tr>\n",
       "      <th>12</th>\n",
       "      <th>kofidadon82@gmail.com</th>\n",
       "      <td>519</td>\n",
       "      <td>45</td>\n",
       "    </tr>\n",
       "    <tr>\n",
       "      <th>13</th>\n",
       "      <th>euniceamponsem@gmail.com</th>\n",
       "      <td>637</td>\n",
       "      <td>68</td>\n",
       "    </tr>\n",
       "    <tr>\n",
       "      <th>14</th>\n",
       "      <th>segbefiadela@gmail.com</th>\n",
       "      <td>349</td>\n",
       "      <td>33</td>\n",
       "    </tr>\n",
       "    <tr>\n",
       "      <th>16</th>\n",
       "      <th>nyarkodelaiah4@gmail.com</th>\n",
       "      <td>511</td>\n",
       "      <td>64</td>\n",
       "    </tr>\n",
       "    <tr>\n",
       "      <th>18</th>\n",
       "      <th>licia.abina@yahoo.com</th>\n",
       "      <td>462</td>\n",
       "      <td>41</td>\n",
       "    </tr>\n",
       "    <tr>\n",
       "      <th>19</th>\n",
       "      <th>ghxeflide@st.ug.edu.gh</th>\n",
       "      <td>532</td>\n",
       "      <td>57</td>\n",
       "    </tr>\n",
       "    <tr>\n",
       "      <th>20</th>\n",
       "      <th>kof1nti@outlook.com</th>\n",
       "      <td>471</td>\n",
       "      <td>69</td>\n",
       "    </tr>\n",
       "    <tr>\n",
       "      <th>21</th>\n",
       "      <th>victorgyanyeboah@yahoo.com</th>\n",
       "      <td>94</td>\n",
       "      <td>10</td>\n",
       "    </tr>\n",
       "    <tr>\n",
       "      <th>22</th>\n",
       "      <th>mallotey143@yahoo.com</th>\n",
       "      <td>333</td>\n",
       "      <td>39</td>\n",
       "    </tr>\n",
       "  </tbody>\n",
       "</table>\n",
       "</div>"
      ],
      "text/plain": [
       "kml_type                                F   Q\n",
       "worker_id email                              \n",
       "10        stanitebros@gmail.com       497  63\n",
       "11        pacyedward@gmail.com        517  60\n",
       "12        kofidadon82@gmail.com       519  45\n",
       "13        euniceamponsem@gmail.com    637  68\n",
       "14        segbefiadela@gmail.com      349  33\n",
       "16        nyarkodelaiah4@gmail.com    511  64\n",
       "18        licia.abina@yahoo.com       462  41\n",
       "19        ghxeflide@st.ug.edu.gh      532  57\n",
       "20        kof1nti@outlook.com         471  69\n",
       "21        victorgyanyeboah@yahoo.com   94  10\n",
       "22        mallotey143@yahoo.com       333  39"
      ]
     },
     "execution_count": 4,
     "metadata": {},
     "output_type": "execute_result"
    }
   ],
   "source": [
    "counts.pivot_table(values=\"count\", index=[\"worker_id\", \"email\"], \n",
    "                   columns=\"kml_type\")"
   ]
  },
  {
   "cell_type": "markdown",
   "id": "d2650c35-63c4-4c4d-b4cb-152f24125734",
   "metadata": {},
   "source": [
    "Assignment counts plotted"
   ]
  },
  {
   "cell_type": "code",
   "execution_count": 5,
   "id": "713db9a9-b8ce-448a-804e-092f91342b01",
   "metadata": {},
   "outputs": [
    {
     "data": {
      "image/png": "[encoded data removed]",
      "text/plain": [
       "<Figure size 640x480 with 2 Axes>"
      ]
     },
     "metadata": {},
     "output_type": "display_data"
    }
   ],
   "source": [
    "counts.pivot_table(values=\"count\", index=\"worker_id\", columns=\"kml_type\")\\\n",
    "    .plot(subplots=True, kind=\"bar\")\n",
    "None"
   ]
  },
  {
   "cell_type": "markdown",
   "id": "a7e924e7-d3cd-4193-93d7-90990b2e7bc1",
   "metadata": {},
   "source": [
    "Mean score against Q sites for each labeller"
   ]
  },
  {
   "cell_type": "code",
   "execution_count": 6,
   "id": "8084bb9c",
   "metadata": {},
   "outputs": [
    {
     "data": {
      "text/html": [
       "<div>\n",
       "<style scoped>\n",
       "    .dataframe tbody tr th:only-of-type {\n",
       "        vertical-align: middle;\n",
       "    }\n",
       "\n",
       "    .dataframe tbody tr th {\n",
       "        vertical-align: top;\n",
       "    }\n",
       "\n",
       "    .dataframe thead th {\n",
       "        text-align: right;\n",
       "    }\n",
       "</style>\n",
       "<table border=\"1\" class=\"dataframe\">\n",
       "  <thead>\n",
       "    <tr style=\"text-align: right;\">\n",
       "      <th></th>\n",
       "      <th>worker_id</th>\n",
       "      <th>score</th>\n",
       "    </tr>\n",
       "  </thead>\n",
       "  <tbody>\n",
       "    <tr>\n",
       "      <th>0</th>\n",
       "      <td>10</td>\n",
       "      <td>0.589393</td>\n",
       "    </tr>\n",
       "    <tr>\n",
       "      <th>1</th>\n",
       "      <td>11</td>\n",
       "      <td>0.595190</td>\n",
       "    </tr>\n",
       "    <tr>\n",
       "      <th>2</th>\n",
       "      <td>12</td>\n",
       "      <td>0.559397</td>\n",
       "    </tr>\n",
       "    <tr>\n",
       "      <th>3</th>\n",
       "      <td>13</td>\n",
       "      <td>0.564997</td>\n",
       "    </tr>\n",
       "    <tr>\n",
       "      <th>4</th>\n",
       "      <td>14</td>\n",
       "      <td>0.651450</td>\n",
       "    </tr>\n",
       "    <tr>\n",
       "      <th>5</th>\n",
       "      <td>16</td>\n",
       "      <td>0.502437</td>\n",
       "    </tr>\n",
       "    <tr>\n",
       "      <th>6</th>\n",
       "      <td>18</td>\n",
       "      <td>0.598505</td>\n",
       "    </tr>\n",
       "    <tr>\n",
       "      <th>7</th>\n",
       "      <td>19</td>\n",
       "      <td>0.573337</td>\n",
       "    </tr>\n",
       "    <tr>\n",
       "      <th>8</th>\n",
       "      <td>20</td>\n",
       "      <td>0.545579</td>\n",
       "    </tr>\n",
       "    <tr>\n",
       "      <th>9</th>\n",
       "      <td>21</td>\n",
       "      <td>0.667021</td>\n",
       "    </tr>\n",
       "    <tr>\n",
       "      <th>10</th>\n",
       "      <td>22</td>\n",
       "      <td>0.585455</td>\n",
       "    </tr>\n",
       "  </tbody>\n",
       "</table>\n",
       "</div>"
      ],
      "text/plain": [
       "    worker_id     score\n",
       "0          10  0.589393\n",
       "1          11  0.595190\n",
       "2          12  0.559397\n",
       "3          13  0.564997\n",
       "4          14  0.651450\n",
       "5          16  0.502437\n",
       "6          18  0.598505\n",
       "7          19  0.573337\n",
       "8          20  0.545579\n",
       "9          21  0.667021\n",
       "10         22  0.585455"
      ]
     },
     "execution_count": 6,
     "metadata": {},
     "output_type": "execute_result"
    }
   ],
   "source": [
    "scores"
   ]
  },
  {
   "cell_type": "markdown",
   "id": "b72ac06f-ac08-42a6-8361-08ee5f48517b",
   "metadata": {},
   "source": [
    "Distribution of scores for each labeller, as box plots"
   ]
  },
  {
   "cell_type": "code",
   "execution_count": 7,
   "id": "2501c773-2298-469d-9a8d-c0cabb0e88e0",
   "metadata": {},
   "outputs": [
    {
     "data": {
      "image/png": "[encoded data removed]",
      "text/plain": [
       "<Figure size 640x480 with 1 Axes>"
      ]
     },
     "metadata": {},
     "output_type": "display_data"
    }
   ],
   "source": [
    "# assignments.query(\"worker_id==13 & kml_type=='Q'\")[\"score\"]\n",
    "assignments.query(\"kml_type=='Q'\")[[\"worker_id\", \"score\"]]\\\n",
    "    .boxplot(by='worker_id', column='score', grid=False)\n",
    "None"
   ]
  },
  {
   "cell_type": "markdown",
   "id": "514fc89b-748a-48d5-8452-af6047c3cc3a",
   "metadata": {},
   "source": [
    "Add custom queries of the retrieved data as needed, e.g. \n",
    "\n",
    "- Q scores for labeller (worker) 20\n",
    "\n",
    "    ```python\n",
    "    assignments.query(\"worker_id==20 & kml_type=='Q'\")[\"score\"]\n",
    "    ```\n",
    "\n",
    "- The first 10 F scores\n",
    "\n",
    "    ```python\n",
    "    assignments.query(\"kml_type=='F'\").iloc[0:10]\n",
    "    ```"
   ]
  },
  {
   "cell_type": "markdown",
   "id": "9efe4f06-ea13-47dc-8a50-a6cebdad4519",
   "metadata": {},
   "source": [
    "## Review labels against imagery\n",
    "\n",
    "Select and evaluate specific labeller's work at selected sites. \n",
    "\n",
    "Labels can be selected using the `get_labels` method as follows:\n",
    "\n",
    "- By type of task, F or Q. If you select \"Q\" the labeller's maps will be shown against the expert maps for the same site.\n",
    "- Through random choice, or for a particular site name.\n",
    "\n",
    "For example, the following call will get one randomly selected Q type site for labeller 10. \n",
    "\n",
    "```python\n",
    "labels = lr.get_labels(assignments, id=10, type=\"Q\")\n",
    "```\n",
    "\n",
    "This one will get a specifically named Q type site completed by labeller 13  \n",
    "\n",
    "```python\n",
    "labels = lr.get_labels(assignments, id=13, type=\"Q\", name=\"ET0472958\")\n",
    "```\n"
   ]
  },
  {
   "cell_type": "code",
   "execution_count": 3,
   "id": "f8fa840d-a66e-4eef-8332-700337236a48",
   "metadata": {},
   "outputs": [],
   "source": [
    "id = 14\n",
    "labels = lr.get_labels(assignments, id=int(id), type=\"F\")"
   ]
  },
  {
   "cell_type": "markdown",
   "id": "04b67492-9ea0-4df7-bb00-f188f2ac2ce0",
   "metadata": {},
   "source": [
    "### Show map"
   ]
  },
  {
   "cell_type": "code",
   "execution_count": 4,
   "id": "c891c6e5-ba16-4d58-8484-88cd7e1f41fd",
   "metadata": {},
   "outputs": [
    {
     "name": "stdout",
     "output_type": "stream",
     "text": [
      "Loading from SHUB\n",
      "https://lacunalabeller.crowdmapper.org/api/getkml?kmlName=ET0403129&workerId=14\n"
     ]
    },
    {
     "data": {
      "application/vnd.jupyter.widget-view+json": {
       "model_id": "1e3f642982ac4894808fcf0e95cead58",
       "version_major": 2,
       "version_minor": 0
      },
      "text/plain": [
       "Map(center=[12.4975, 37.7965], controls=(ZoomControl(options=['position', 'zoom_in_text', 'zoom_in_title', 'zo…"
      ]
     },
     "execution_count": 4,
     "metadata": {},
     "output_type": "execute_result"
    }
   ],
   "source": [
    "lr.plot_labels(labels)"
   ]
  },
  {
   "cell_type": "markdown",
   "id": "c71df6bb-f1c6-4167-b053-2b5c4721626b",
   "metadata": {},
   "source": [
    "### Record review"
   ]
  },
  {
   "cell_type": "code",
   "execution_count": null,
   "id": "a774845e-8e31-4ab1-b7c1-8f0c8ec46ad8",
   "metadata": {
    "scrolled": true
   },
   "outputs": [],
   "source": [
    "lr.record_review(sample=labels[\"point\"][\"name\"].loc[0], id=labels[\"id\"],\n",
    "                 expert_labels=True if labels[\"type\"] == \"Q\" else False)"
   ]
  },
  {
   "cell_type": "code",
   "execution_count": null,
   "id": "dd5a52f8-ec39-48f5-aa02-6bc443a7ec00",
   "metadata": {},
   "outputs": [],
   "source": []
  }
 ],
 "metadata": {
  "kernelspec": {
   "display_name": "Python 3 (ipykernel)",
   "language": "python",
   "name": "python3"
  },
  "language_info": {
   "codemirror_mode": {
    "name": "ipython",
    "version": 3
   },
   "file_extension": ".py",
   "mimetype": "text/x-python",
   "name": "python",
   "nbconvert_exporter": "python",
   "pygments_lexer": "ipython3",
   "version": "3.10.8"
  }
 },
 "nbformat": 4,
 "nbformat_minor": 5
}
