{
 "cells": [
  {
   "cell_type": "markdown",
   "id": "b12410b9-0e56-41dd-8a49-0bc2294059ab",
   "metadata": {},
   "source": [
    "## Evaluate Progress of Labellers\n",
    "\n",
    "Use this notebook to evaluate the progress of labellers and to inspect their labels against imagery. "
   ]
  },
  {
   "cell_type": "markdown",
   "id": "0443506e-895e-4537-b501-7b77f9a2b238",
   "metadata": {},
   "source": [
    "## Set-up "
   ]
  },
  {
   "cell_type": "code",
   "execution_count": 1,
   "id": "56adf2a5",
   "metadata": {},
   "outputs": [],
   "source": [
    "import os\n",
    "import sys\n",
    "import pandas as pd\n",
    "module_path = os.path.abspath(os.path.join('src'))\n",
    "sys.path.insert(0, module_path)\n",
    "\n",
    "from labelreview import labelReview"
   ]
  },
  {
   "cell_type": "markdown",
   "id": "1bc37892-1a27-4ad2-a54a-59a78cae2dba",
   "metadata": {},
   "source": [
    "## Get assignment data"
   ]
  },
  {
   "cell_type": "code",
   "execution_count": 2,
   "id": "3bec5514",
   "metadata": {},
   "outputs": [],
   "source": [
    "lr = labelReview(config=\"config-db.yaml\")\n",
    "query = \\\n",
    "    \"SELECT name,hit_id,assignment_id,worker_id,email,score,status,kml_type \"\\\n",
    "    \"FROM assignment_data \"\\\n",
    "    \"LEFT JOIN hit_data USING (hit_id) \"\\\n",
    "    \"LEFT JOIN kml_data USING (name) \"\\\n",
    "    \"LEFT JOIN users ON assignment_data.worker_id = users.id\"\n",
    "assignments = lr.get_data(query)"
   ]
  },
  {
   "cell_type": "markdown",
   "id": "ddcda87a-e5a5-45d4-ae11-061223db5395",
   "metadata": {},
   "source": [
    "### Summarize assignment counts and score"
   ]
  },
  {
   "cell_type": "code",
   "execution_count": 3,
   "id": "e4ce73db-2e2c-4f48-98ba-5639e02bfd3a",
   "metadata": {},
   "outputs": [],
   "source": [
    "counts = assignments[[\"worker_id\", \"email\", \"kml_type\"]]\\\n",
    "    .groupby([\"worker_id\", \"email\", \"kml_type\"], as_index=False)\\\n",
    "    .value_counts()\n",
    "\n",
    "scores = assignments[[\"worker_id\", \"score\"]]\\\n",
    "    .groupby(\"worker_id\", as_index=False)\\\n",
    "    .mean(\"score\")"
   ]
  },
  {
   "cell_type": "markdown",
   "id": "1eb4a7c9-65ca-4f56-a531-661ef9488fb9",
   "metadata": {},
   "source": [
    "Assignment counts"
   ]
  },
  {
   "cell_type": "code",
   "execution_count": 4,
   "id": "5a1f99a9-9545-46a0-be8b-5d34dccc8f2a",
   "metadata": {},
   "outputs": [
    {
     "data": {
      "text/html": [
       "<div>\n",
       "<style scoped>\n",
       "    .dataframe tbody tr th:only-of-type {\n",
       "        vertical-align: middle;\n",
       "    }\n",
       "\n",
       "    .dataframe tbody tr th {\n",
       "        vertical-align: top;\n",
       "    }\n",
       "\n",
       "    .dataframe thead th {\n",
       "        text-align: right;\n",
       "    }\n",
       "</style>\n",
       "<table border=\"1\" class=\"dataframe\">\n",
       "  <thead>\n",
       "    <tr style=\"text-align: right;\">\n",
       "      <th></th>\n",
       "      <th>kml_type</th>\n",
       "      <th>F</th>\n",
       "      <th>Q</th>\n",
       "    </tr>\n",
       "    <tr>\n",
       "      <th>worker_id</th>\n",
       "      <th>email</th>\n",
       "      <th></th>\n",
       "      <th></th>\n",
       "    </tr>\n",
       "  </thead>\n",
       "  <tbody>\n",
       "    <tr>\n",
       "      <th>10</th>\n",
       "      <th>stanitebros@gmail.com</th>\n",
       "      <td>400</td>\n",
       "      <td>46</td>\n",
       "    </tr>\n",
       "    <tr>\n",
       "      <th>11</th>\n",
       "      <th>pacyedward@gmail.com</th>\n",
       "      <td>448</td>\n",
       "      <td>50</td>\n",
       "    </tr>\n",
       "    <tr>\n",
       "      <th>12</th>\n",
       "      <th>kofidadon82@gmail.com</th>\n",
       "      <td>392</td>\n",
       "      <td>33</td>\n",
       "    </tr>\n",
       "    <tr>\n",
       "      <th>13</th>\n",
       "      <th>euniceamponsem@gmail.com</th>\n",
       "      <td>576</td>\n",
       "      <td>65</td>\n",
       "    </tr>\n",
       "    <tr>\n",
       "      <th>14</th>\n",
       "      <th>segbefiadela@gmail.com</th>\n",
       "      <td>162</td>\n",
       "      <td>15</td>\n",
       "    </tr>\n",
       "    <tr>\n",
       "      <th>16</th>\n",
       "      <th>nyarkodelaiah4@gmail.com</th>\n",
       "      <td>402</td>\n",
       "      <td>57</td>\n",
       "    </tr>\n",
       "    <tr>\n",
       "      <th>18</th>\n",
       "      <th>licia.abina@yahoo.com</th>\n",
       "      <td>235</td>\n",
       "      <td>22</td>\n",
       "    </tr>\n",
       "    <tr>\n",
       "      <th>19</th>\n",
       "      <th>ghxeflide@st.ug.edu.gh</th>\n",
       "      <td>385</td>\n",
       "      <td>44</td>\n",
       "    </tr>\n",
       "    <tr>\n",
       "      <th>20</th>\n",
       "      <th>kof1nti@outlook.com</th>\n",
       "      <td>398</td>\n",
       "      <td>60</td>\n",
       "    </tr>\n",
       "    <tr>\n",
       "      <th>21</th>\n",
       "      <th>victorgyanyeboah@yahoo.com</th>\n",
       "      <td>34</td>\n",
       "      <td>5</td>\n",
       "    </tr>\n",
       "    <tr>\n",
       "      <th>22</th>\n",
       "      <th>mallotey143@yahoo.com</th>\n",
       "      <td>124</td>\n",
       "      <td>13</td>\n",
       "    </tr>\n",
       "  </tbody>\n",
       "</table>\n",
       "</div>"
      ],
      "text/plain": [
       "kml_type                                F   Q\n",
       "worker_id email                              \n",
       "10        stanitebros@gmail.com       400  46\n",
       "11        pacyedward@gmail.com        448  50\n",
       "12        kofidadon82@gmail.com       392  33\n",
       "13        euniceamponsem@gmail.com    576  65\n",
       "14        segbefiadela@gmail.com      162  15\n",
       "16        nyarkodelaiah4@gmail.com    402  57\n",
       "18        licia.abina@yahoo.com       235  22\n",
       "19        ghxeflide@st.ug.edu.gh      385  44\n",
       "20        kof1nti@outlook.com         398  60\n",
       "21        victorgyanyeboah@yahoo.com   34   5\n",
       "22        mallotey143@yahoo.com       124  13"
      ]
     },
     "execution_count": 4,
     "metadata": {},
     "output_type": "execute_result"
    }
   ],
   "source": [
    "counts.pivot_table(values=\"count\", index=[\"worker_id\", \"email\"], \n",
    "                   columns=\"kml_type\")"
   ]
  },
  {
   "cell_type": "markdown",
   "id": "d2650c35-63c4-4c4d-b4cb-152f24125734",
   "metadata": {},
   "source": [
    "Assignment counts plotted"
   ]
  },
  {
   "cell_type": "code",
   "execution_count": 5,
   "id": "713db9a9-b8ce-448a-804e-092f91342b01",
   "metadata": {},
   "outputs": [
    {
     "data": {
      "image/png": "[encoded data removed]",
      "text/plain": [
       "<Figure size 640x480 with 2 Axes>"
      ]
     },
     "metadata": {},
     "output_type": "display_data"
    }
   ],
   "source": [
    "counts.pivot_table(values=\"count\", index=\"worker_id\", columns=\"kml_type\")\\\n",
    "    .plot(subplots=True, kind=\"bar\")\n",
    "None"
   ]
  },
  {
   "cell_type": "markdown",
   "id": "a7e924e7-d3cd-4193-93d7-90990b2e7bc1",
   "metadata": {},
   "source": [
    "Mean score against Q sites for each labeller"
   ]
  },
  {
   "cell_type": "code",
   "execution_count": 6,
   "id": "8084bb9c",
   "metadata": {},
   "outputs": [
    {
     "data": {
      "text/html": [
       "<div>\n",
       "<style scoped>\n",
       "    .dataframe tbody tr th:only-of-type {\n",
       "        vertical-align: middle;\n",
       "    }\n",
       "\n",
       "    .dataframe tbody tr th {\n",
       "        vertical-align: top;\n",
       "    }\n",
       "\n",
       "    .dataframe thead th {\n",
       "        text-align: right;\n",
       "    }\n",
       "</style>\n",
       "<table border=\"1\" class=\"dataframe\">\n",
       "  <thead>\n",
       "    <tr style=\"text-align: right;\">\n",
       "      <th></th>\n",
       "      <th>worker_id</th>\n",
       "      <th>score</th>\n",
       "    </tr>\n",
       "  </thead>\n",
       "  <tbody>\n",
       "    <tr>\n",
       "      <th>0</th>\n",
       "      <td>10</td>\n",
       "      <td>0.611980</td>\n",
       "    </tr>\n",
       "    <tr>\n",
       "      <th>1</th>\n",
       "      <td>11</td>\n",
       "      <td>0.602765</td>\n",
       "    </tr>\n",
       "    <tr>\n",
       "      <th>2</th>\n",
       "      <td>12</td>\n",
       "      <td>0.585598</td>\n",
       "    </tr>\n",
       "    <tr>\n",
       "      <th>3</th>\n",
       "      <td>13</td>\n",
       "      <td>0.562445</td>\n",
       "    </tr>\n",
       "    <tr>\n",
       "      <th>4</th>\n",
       "      <td>14</td>\n",
       "      <td>0.687093</td>\n",
       "    </tr>\n",
       "    <tr>\n",
       "      <th>5</th>\n",
       "      <td>16</td>\n",
       "      <td>0.507934</td>\n",
       "    </tr>\n",
       "    <tr>\n",
       "      <th>6</th>\n",
       "      <td>18</td>\n",
       "      <td>0.619379</td>\n",
       "    </tr>\n",
       "    <tr>\n",
       "      <th>7</th>\n",
       "      <td>19</td>\n",
       "      <td>0.567428</td>\n",
       "    </tr>\n",
       "    <tr>\n",
       "      <th>8</th>\n",
       "      <td>20</td>\n",
       "      <td>0.541602</td>\n",
       "    </tr>\n",
       "    <tr>\n",
       "      <th>9</th>\n",
       "      <td>21</td>\n",
       "      <td>0.745212</td>\n",
       "    </tr>\n",
       "    <tr>\n",
       "      <th>10</th>\n",
       "      <td>22</td>\n",
       "      <td>0.689286</td>\n",
       "    </tr>\n",
       "  </tbody>\n",
       "</table>\n",
       "</div>"
      ],
      "text/plain": [
       "    worker_id     score\n",
       "0          10  0.611980\n",
       "1          11  0.602765\n",
       "2          12  0.585598\n",
       "3          13  0.562445\n",
       "4          14  0.687093\n",
       "5          16  0.507934\n",
       "6          18  0.619379\n",
       "7          19  0.567428\n",
       "8          20  0.541602\n",
       "9          21  0.745212\n",
       "10         22  0.689286"
      ]
     },
     "execution_count": 6,
     "metadata": {},
     "output_type": "execute_result"
    }
   ],
   "source": [
    "scores"
   ]
  },
  {
   "cell_type": "markdown",
   "id": "b72ac06f-ac08-42a6-8361-08ee5f48517b",
   "metadata": {},
   "source": [
    "Distribution of scores for each labeller, as box plots"
   ]
  },
  {
   "cell_type": "code",
   "execution_count": 7,
   "id": "2501c773-2298-469d-9a8d-c0cabb0e88e0",
   "metadata": {},
   "outputs": [
    {
     "data": {
      "image/png": "[encoded data removed]",
      "text/plain": [
       "<Figure size 640x480 with 1 Axes>"
      ]
     },
     "metadata": {},
     "output_type": "display_data"
    }
   ],
   "source": [
    "# assignments.query(\"worker_id==13 & kml_type=='Q'\")[\"score\"]\n",
    "assignments.query(\"kml_type=='Q'\")[[\"worker_id\", \"score\"]]\\\n",
    "    .boxplot(by='worker_id', column='score', grid=False)\n",
    "None"
   ]
  },
  {
   "cell_type": "markdown",
   "id": "514fc89b-748a-48d5-8452-af6047c3cc3a",
   "metadata": {},
   "source": [
    "Uncomment and adjust this line as needed to see the Q scores for an individual labeller"
   ]
  },
  {
   "cell_type": "code",
   "execution_count": null,
   "id": "70debfe3-c9cf-4da5-b493-257b24bb03e4",
   "metadata": {},
   "outputs": [],
   "source": [
    "# assignments.query(\"worker_id==20 & kml_type=='Q'\")[\"score\"]"
   ]
  },
  {
   "cell_type": "markdown",
   "id": "9efe4f06-ea13-47dc-8a50-a6cebdad4519",
   "metadata": {},
   "source": [
    "## Evaluate labels against imagery\n",
    "\n",
    "Select a particular labeller's map by ID, and then evaluate their labels at a particular site. \n",
    "\n",
    "Labels can be selected as follows:\n",
    "\n",
    "- By type of task, F or Q. If you select \"Q\" the labeller's maps will be shown against the expert maps for the same site.\n",
    "- Through random choice, or for a particular site name.\n",
    "\n",
    "The arguments in the function `lr.get_labels` enable these choices. \n",
    "\n",
    "For example, the following call will get one randomly selected Q type site for labeller 10. \n",
    "\n",
    "```python\n",
    "labels = lr.et_labels(id=10)\n",
    "```\n",
    "This one will get a site by a particular name:\n",
    "\n",
    "```python\n",
    "labels = lr.get_labels(id=13, name=\"ET0472958\")\n",
    "```\n"
   ]
  },
  {
   "cell_type": "code",
   "execution_count": 7,
   "id": "f8fa840d-a66e-4eef-8332-700337236a48",
   "metadata": {},
   "outputs": [],
   "source": [
    "id = 11\n",
    "labels = lr.get_labels(assignments, id=int(id), type=\"Q\")\n",
    "# labels = lr.get_labels(assignments, id=int(id), name=\"LS0012224\")"
   ]
  },
  {
   "cell_type": "markdown",
   "id": "04b67492-9ea0-4df7-bb00-f188f2ac2ce0",
   "metadata": {},
   "source": [
    "### Show map"
   ]
  },
  {
   "cell_type": "code",
   "execution_count": 8,
   "id": "c891c6e5-ba16-4d58-8484-88cd7e1f41fd",
   "metadata": {},
   "outputs": [
    {
     "name": "stdout",
     "output_type": "stream",
     "text": [
      "Loading from SHUB\n"
     ]
    },
    {
     "data": {
      "application/vnd.jupyter.widget-view+json": {
       "model_id": "58f5b276ee2e4d19b5673c2ff2d65597",
       "version_major": 2,
       "version_minor": 0
      },
      "text/plain": [
       "Map(center=[9.4625, 4.1215], controls=(ZoomControl(options=['position', 'zoom_in_text', 'zoom_in_title', 'zoom…"
      ]
     },
     "execution_count": 8,
     "metadata": {},
     "output_type": "execute_result"
    }
   ],
   "source": [
    "lr.plot_labels(labels)"
   ]
  },
  {
   "cell_type": "markdown",
   "id": "c71df6bb-f1c6-4167-b053-2b5c4721626b",
   "metadata": {},
   "source": [
    "### Record review"
   ]
  },
  {
   "cell_type": "code",
   "execution_count": 11,
   "id": "a774845e-8e31-4ab1-b7c1-8f0c8ec46ad8",
   "metadata": {
    "scrolled": true
   },
   "outputs": [
    {
     "name": "stdin",
     "output_type": "stream",
     "text": [
      "What is your rating/feedback for labeller 11 on NE3828505?:  pass, this maps the fields well along their boundaries, and gets all--there might be a few that are not fields.  Some fields could be pastures, but delineation suggests fields\n",
      "What is your rating/feedback for thecorresponding expert labels for NE3828505?:  pass, same judgement as for labeller 11: this maps the fields well along their boundaries, and gets all--there might be a few that are not fields.  Some fields could be pastures, but delineation suggests fields\n"
     ]
    }
   ],
   "source": [
    "lr.record_review(sample=labels[\"point\"][\"name\"].loc[0], id=labels[\"id\"],\n",
    "                 expert_labels=True if labels[\"type\"] == \"Q\" else False)"
   ]
  },
  {
   "cell_type": "code",
   "execution_count": null,
   "id": "34de4972-5648-4dfa-90da-9462b1fffafe",
   "metadata": {},
   "outputs": [],
   "source": []
  }
 ],
 "metadata": {
  "kernelspec": {
   "display_name": "Python 3 (ipykernel)",
   "language": "python",
   "name": "python3"
  },
  "language_info": {
   "codemirror_mode": {
    "name": "ipython",
    "version": 3
   },
   "file_extension": ".py",
   "mimetype": "text/x-python",
   "name": "python",
   "nbconvert_exporter": "python",
   "pygments_lexer": "ipython3",
   "version": "3.10.8"
  }
 },
 "nbformat": 4,
 "nbformat_minor": 5
}
