{
 "cells": [
  {
   "cell_type": "markdown",
   "id": "b12410b9-0e56-41dd-8a49-0bc2294059ab",
   "metadata": {},
   "source": [
    "## Evaluate Progress of Labellers\n",
    "\n",
    "Use this notebook to evaluate the progress of labellers and to inspect their labels against imagery. "
   ]
  },
  {
   "cell_type": "markdown",
   "id": "0443506e-895e-4537-b501-7b77f9a2b238",
   "metadata": {},
   "source": [
    "## Set-up "
   ]
  },
  {
   "cell_type": "code",
   "execution_count": null,
   "id": "56adf2a5",
   "metadata": {},
   "outputs": [],
   "source": [
    "import os\n",
    "import sys\n",
    "import pandas as pd\n",
    "module_path = os.path.abspath(os.path.join('src'))\n",
    "sys.path.insert(0, module_path)\n",
    "\n",
    "from labelreview import labelReview"
   ]
  },
  {
   "cell_type": "markdown",
   "id": "1bc37892-1a27-4ad2-a54a-59a78cae2dba",
   "metadata": {},
   "source": [
    "## Get assignment data"
   ]
  },
  {
   "cell_type": "code",
   "execution_count": null,
   "id": "3bec5514",
   "metadata": {},
   "outputs": [],
   "source": [
    "lr = labelReview(config=\"config-db.yaml\")\n",
    "query = \\\n",
    "    \"SELECT name,hit_id,assignment_id,worker_id,email,score,status,kml_type \"\\\n",
    "    \"FROM assignment_data \"\\\n",
    "    \"LEFT JOIN hit_data USING (hit_id) \"\\\n",
    "    \"LEFT JOIN kml_data USING (name) \"\\\n",
    "    \"LEFT JOIN users ON assignment_data.worker_id = users.id\"\n",
    "assignments = lr.get_data(query)"
   ]
  },
  {
   "cell_type": "markdown",
   "id": "ddcda87a-e5a5-45d4-ae11-061223db5395",
   "metadata": {},
   "source": [
    "### Summarize assignment counts and score"
   ]
  },
  {
   "cell_type": "code",
   "execution_count": null,
   "id": "e4ce73db-2e2c-4f48-98ba-5639e02bfd3a",
   "metadata": {},
   "outputs": [],
   "source": [
    "counts = assignments[[\"worker_id\", \"email\", \"kml_type\"]]\\\n",
    "    .groupby([\"worker_id\", \"email\", \"kml_type\"], as_index=False)\\\n",
    "    .value_counts()\n",
    "\n",
    "scores = assignments[[\"worker_id\", \"score\"]]\\\n",
    "    .groupby(\"worker_id\", as_index=False)\\\n",
    "    .mean(\"score\")"
   ]
  },
  {
   "cell_type": "markdown",
   "id": "1eb4a7c9-65ca-4f56-a531-661ef9488fb9",
   "metadata": {},
   "source": [
    "Assignment counts"
   ]
  },
  {
   "cell_type": "code",
   "execution_count": null,
   "id": "5a1f99a9-9545-46a0-be8b-5d34dccc8f2a",
   "metadata": {},
   "outputs": [],
   "source": [
    "counts.pivot_table(values=\"count\", index=[\"worker_id\", \"email\"], \n",
    "                   columns=\"kml_type\")"
   ]
  },
  {
   "cell_type": "markdown",
   "id": "d2650c35-63c4-4c4d-b4cb-152f24125734",
   "metadata": {},
   "source": [
    "Assignment counts plotted"
   ]
  },
  {
   "cell_type": "code",
   "execution_count": null,
   "id": "713db9a9-b8ce-448a-804e-092f91342b01",
   "metadata": {},
   "outputs": [],
   "source": [
    "counts.pivot_table(values=\"count\", index=\"worker_id\", columns=\"kml_type\")\\\n",
    "    .plot(subplots=True, kind=\"bar\")\n",
    "None"
   ]
  },
  {
   "cell_type": "markdown",
   "id": "a7e924e7-d3cd-4193-93d7-90990b2e7bc1",
   "metadata": {},
   "source": [
    "Mean score against Q sites for each labeller"
   ]
  },
  {
   "cell_type": "code",
   "execution_count": null,
   "id": "8084bb9c",
   "metadata": {},
   "outputs": [],
   "source": [
    "scores"
   ]
  },
  {
   "cell_type": "markdown",
   "id": "b72ac06f-ac08-42a6-8361-08ee5f48517b",
   "metadata": {},
   "source": [
    "Distribution of scores for each labeller, as box plots"
   ]
  },
  {
   "cell_type": "code",
   "execution_count": null,
   "id": "2501c773-2298-469d-9a8d-c0cabb0e88e0",
   "metadata": {},
   "outputs": [],
   "source": [
    "# assignments.query(\"worker_id==13 & kml_type=='Q'\")[\"score\"]\n",
    "assignments.query(\"kml_type=='Q'\")[[\"worker_id\", \"score\"]]\\\n",
    "    .boxplot(by='worker_id', column='score', grid=False)\n",
    "None"
   ]
  },
  {
   "cell_type": "markdown",
   "id": "514fc89b-748a-48d5-8452-af6047c3cc3a",
   "metadata": {},
   "source": [
    "Add custom queries of the retrieved data as needed, e.g. \n",
    "\n",
    "- Q scores for labeller (worker) 20\n",
    "\n",
    "    ```python\n",
    "    assignments.query(\"worker_id==20 & kml_type=='Q'\")[\"score\"]\n",
    "    ```\n",
    "\n",
    "- The first 10 F scores\n",
    "\n",
    "    ```python\n",
    "    assignments.query(\"kml_type=='F'\").iloc[0:10]\n",
    "    ```"
   ]
  },
  {
   "cell_type": "markdown",
   "id": "9efe4f06-ea13-47dc-8a50-a6cebdad4519",
   "metadata": {},
   "source": [
    "## Review labels against imagery\n",
    "\n",
    "Select and evaluate specific labeller's work at selected sites. \n",
    "\n",
    "Labels can be selected using the `get_labels` method as follows:\n",
    "\n",
    "- By type of task, F or Q. If you select \"Q\" the labeller's maps will be shown against the expert maps for the same site.\n",
    "- Through random choice, or for a particular site name.\n",
    "\n",
    "For example, the following call will get one randomly selected Q type site for labeller 10. \n",
    "\n",
    "```python\n",
    "labels = lr.get_labels(assignments, id=10, type=\"Q\")\n",
    "```\n",
    "\n",
    "This one will get a specifically named Q type site completed by labeller 13  \n",
    "\n",
    "```python\n",
    "labels = lr.get_labels(assignments, id=13, type=\"Q\", name=\"ET0472958\")\n",
    "```\n"
   ]
  },
  {
   "cell_type": "code",
   "execution_count": null,
   "id": "f8fa840d-a66e-4eef-8332-700337236a48",
   "metadata": {},
   "outputs": [],
   "source": [
    "id = 14\n",
    "labels = lr.get_labels(assignments, id=int(id), type=\"F\")"
   ]
  },
  {
   "cell_type": "markdown",
   "id": "04b67492-9ea0-4df7-bb00-f188f2ac2ce0",
   "metadata": {},
   "source": [
    "### Show map"
   ]
  },
  {
   "cell_type": "code",
   "execution_count": null,
   "id": "c891c6e5-ba16-4d58-8484-88cd7e1f41fd",
   "metadata": {},
   "outputs": [],
   "source": [
    "lr.plot_labels(labels)"
   ]
  },
  {
   "cell_type": "markdown",
   "id": "c71df6bb-f1c6-4167-b053-2b5c4721626b",
   "metadata": {},
   "source": [
    "### Record review"
   ]
  },
  {
   "cell_type": "code",
   "execution_count": null,
   "id": "a774845e-8e31-4ab1-b7c1-8f0c8ec46ad8",
   "metadata": {
    "scrolled": true
   },
   "outputs": [],
   "source": [
    "lr.record_review(sample=labels[\"point\"][\"name\"].loc[0], id=labels[\"id\"],\n",
    "                 expert_labels=True if labels[\"type\"] == \"Q\" else False)"
   ]
  }
 ],
 "metadata": {
  "kernelspec": {
   "display_name": "Python 3 (ipykernel)",
   "language": "python",
   "name": "python3"
  },
  "language_info": {
   "codemirror_mode": {
    "name": "ipython",
    "version": 3
   },
   "file_extension": ".py",
   "mimetype": "text/x-python",
   "name": "python",
   "nbconvert_exporter": "python",
   "pygments_lexer": "ipython3",
   "version": "3.11.6"
  }
 },
 "nbformat": 4,
 "nbformat_minor": 5
}
