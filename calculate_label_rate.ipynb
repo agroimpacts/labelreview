{
 "cells": [
  {
   "cell_type": "markdown",
   "id": "b12410b9-0e56-41dd-8a49-0bc2294059ab",
   "metadata": {},
   "source": [
    "## Calculate labelling rates\n",
    "\n",
    "This notebook provides data and functionality for tracking number of assignments mapped over time, average labelling rates, assignments completed per day, etc.  \n",
    "\n"
   ]
  },
  {
   "cell_type": "markdown",
   "id": "0443506e-895e-4537-b501-7b77f9a2b238",
   "metadata": {},
   "source": [
    "## Set-up "
   ]
  },
  {
   "cell_type": "code",
   "execution_count": null,
   "id": "56adf2a5",
   "metadata": {},
   "outputs": [],
   "source": [
    "import os\n",
    "import sys\n",
    "import pandas as pd\n",
    "module_path = os.path.abspath(os.path.join('src'))\n",
    "sys.path.insert(0, module_path)\n",
    "\n",
    "from labelreview import labelReview"
   ]
  },
  {
   "cell_type": "markdown",
   "id": "1bc37892-1a27-4ad2-a54a-59a78cae2dba",
   "metadata": {},
   "source": [
    "### Query data"
   ]
  },
  {
   "cell_type": "code",
   "execution_count": null,
   "id": "3bec5514",
   "metadata": {},
   "outputs": [],
   "source": [
    "lr = labelReview(config=\"config-db.yaml\")\n",
    "query = \\\n",
    "    \"SELECT name,hit_id,assignment_id,worker_id,email,\"\\\n",
    "    \"start_time,completion_time,score,status,kml_type,mapped_count \"\\\n",
    "    \"FROM assignment_data \"\\\n",
    "    \"LEFT JOIN hit_data USING (hit_id) \"\\\n",
    "    \"LEFT JOIN kml_data USING (name) \"\\\n",
    "    \"LEFT JOIN users ON assignment_data.worker_id = users.id\"\n",
    "assignments = lr.get_data(query)"
   ]
  },
  {
   "cell_type": "markdown",
   "id": "797d82f8-0544-40d5-956d-23b0766cc390",
   "metadata": {},
   "source": [
    "### Complile daily rate function"
   ]
  },
  {
   "cell_type": "code",
   "execution_count": null,
   "id": "73bf2b5b-bc87-48fd-9ea7-66c996677821",
   "metadata": {},
   "outputs": [],
   "source": [
    "def daily_rates(assignments, plot=True, date_range=None, workers=None):\n",
    "    \"\"\"Calculates the daily rate and days worked for one or more labellers \n",
    "    for a given date range, taking full date range and labellers and plotting \n",
    "    results by default\n",
    "\n",
    "    Params\n",
    "    -------\n",
    "    assignments : DataFrame\n",
    "        Results of query into database\n",
    "    plot : bool\n",
    "        To plot results or return summary DataFrame. Defaults to plot\n",
    "    date_range : list\n",
    "        An optional list of dates defining a range to query, e.g. \n",
    "        [\"2024-01-01\", \"2024-01-14\"]\n",
    "    workers : list\n",
    "        A list of specific worker ids, if results from just one worker are \n",
    "        needed\n",
    "\n",
    "    Returns\n",
    "    -------\n",
    "    Plot or DataFrame\n",
    "    \"\"\"\n",
    "    \n",
    "    if not workers:\n",
    "        workers = assignments.worker_id.unique()\n",
    "    if not date_range:\n",
    "        dates = [\n",
    "            pd.to_datetime(assignments.completion_date).min().date(), \n",
    "            pd.to_datetime(assignments.completion_date).max().date()\n",
    "        ]\n",
    "    else:\n",
    "        assert isinstance(date_range, list), \"need list of date strings\"\n",
    "        dates = [pd.to_datetime(date).date() for date in date_range]\n",
    "    \n",
    "    rates = (\n",
    "        assignments\n",
    "        .value_counts(subset=[\"worker_id\", \"completion_date\"])\n",
    "        .reset_index()\n",
    "        .query(\"worker_id in @workers\")\n",
    "        .query(\"completion_date >= @dates[0] & completion_date <= @dates[1]\")\n",
    "        .groupby(\"worker_id\")\n",
    "        .agg({'completion_date': 'size', 'count':'mean'})\n",
    "        .rename(columns={\"completion_date\": \"days_worked\", \"count\": \"average_rate\"})\n",
    "        .reset_index()\n",
    "    )\n",
    "    if plot:\n",
    "        rates.plot(x=\"worker_id\", kind=\"bar\", figsize=(14,5), \n",
    "                   ylabel=\"Days worked/assignments completed\")\n",
    "    else:\n",
    "        rates    "
   ]
  },
  {
   "cell_type": "markdown",
   "id": "9ae5facc-fd94-41bb-92d7-5216cf3d1b88",
   "metadata": {},
   "source": [
    "## Analyze assignment times per labeller"
   ]
  },
  {
   "cell_type": "markdown",
   "id": "a5e7e4c6-7249-4d9d-80e2-fbfbd38ec08a",
   "metadata": {},
   "source": [
    "### Calculate times per assignment\n",
    "\n",
    "Note: for averages we drop abandoned assignments and ones that took longer than 2 hours, as these likely represented sites that were not mapped in one sitting. "
   ]
  },
  {
   "cell_type": "code",
   "execution_count": null,
   "id": "3c14c811-19fc-475d-91dd-d815e02041e4",
   "metadata": {},
   "outputs": [],
   "source": [
    "assignments[\"tot_time\"] = assignments.apply(\n",
    "    lambda x: (x.completion_time-x.start_time).total_seconds() / (60 * 60), \n",
    "    axis=1\n",
    ")\n",
    "assignments[\"completion_date\"] = assignments.completion_time.dt.date\n",
    "\n",
    "mean_times = (\n",
    "    assignments\n",
    "    .query(\"status != 'Abandoned' & tot_time<2\")\n",
    "    .value_counts(subset=[\"worker_id\", \"kml_type\", \"tot_time\"])\n",
    "    .reset_index()\n",
    "    .groupby([\"worker_id\", \"kml_type\"])[\"tot_time\"]\n",
    "    .mean()\n",
    "    .apply(lambda x: x * 60)\n",
    "    .reset_index()\n",
    "    .rename(columns={\"tot_time\": \"avg_time\"})\n",
    ")"
   ]
  },
  {
   "cell_type": "markdown",
   "id": "76c76dc3-bf63-494d-a5f9-8564d57f7b2f",
   "metadata": {},
   "source": [
    "### Total time per assignment"
   ]
  },
  {
   "cell_type": "code",
   "execution_count": null,
   "id": "58ef3ca3-f538-43b8-8d81-7cec8f9c20d9",
   "metadata": {},
   "outputs": [],
   "source": [
    "(\n",
    "    assignments\n",
    "    .query(\"status != 'Abandoned' & tot_time<2\")\n",
    "    .get(\"tot_time\")\n",
    "    .plot(kind=\"hist\", title=\"Total time\", xlabel=\"Hours\")\n",
    ")\n",
    "None"
   ]
  },
  {
   "cell_type": "markdown",
   "id": "0c33a3a7-ab1a-43a4-9175-fb2c9000cca3",
   "metadata": {},
   "source": [
    "### Average time per assignment\n",
    "\n",
    "According to different assignment types"
   ]
  },
  {
   "cell_type": "code",
   "execution_count": null,
   "id": "205bcbb0-e8c3-4a92-be7c-916a211e6629",
   "metadata": {},
   "outputs": [],
   "source": [
    "(\n",
    "    mean_times\n",
    "    .pivot_table(values=\"avg_time\", index=\"worker_id\", columns=\"kml_type\")\n",
    "    .plot(kind=\"bar\", ylabel=\"Minutes\", figsize=(14,5),\n",
    "          title=\"Average time to label one site\")\n",
    ")\n",
    "None"
   ]
  },
  {
   "cell_type": "code",
   "execution_count": null,
   "id": "7f3d3ade-ac76-44d1-a487-670cdf42f99f",
   "metadata": {},
   "outputs": [],
   "source": [
    "overall_mean = mean_times.avg_time.mean().round(2)\n",
    "print(f\"Overall average time per assignment: {overall_mean.round(2)} minutes\")\n",
    "print(f\"Expected assignments over 7 hrs: {((60 * 7) / overall_mean).round()}\")\n",
    "print(f\"Expected assignments over 8 hrs: {((60 * 8) / overall_mean).round()}\")"
   ]
  },
  {
   "cell_type": "markdown",
   "id": "70721b9d-9a84-429c-86ea-e920765b3431",
   "metadata": {},
   "source": [
    "Average time to label F sites"
   ]
  },
  {
   "cell_type": "markdown",
   "id": "eae9ea6b-c692-481c-af11-b9376fca7139",
   "metadata": {},
   "source": [
    "## Sites per day"
   ]
  },
  {
   "cell_type": "markdown",
   "id": "95ad9b2d-fce3-46ab-932f-c39c5b4c6f72",
   "metadata": {},
   "source": [
    "### Total sites per day"
   ]
  },
  {
   "cell_type": "code",
   "execution_count": null,
   "id": "46e335a2-f9d5-4e68-974e-6200d005ecb0",
   "metadata": {},
   "outputs": [],
   "source": [
    "(\n",
    "    assignments\n",
    "    .value_counts(subset=[\"completion_date\", \"kml_type\"])\n",
    "    .unstack(level=1)\n",
    "    .reset_index()\n",
    "    .plot(x=\"completion_date\", kind=\"bar\", subplots=True, figsize=(14,5))   \n",
    ")\n",
    "None"
   ]
  },
  {
   "cell_type": "markdown",
   "id": "c56cd67a-9e62-4371-bba9-5f83d9857669",
   "metadata": {},
   "source": [
    "### Average daily rate per worker"
   ]
  },
  {
   "cell_type": "markdown",
   "id": "06953b3e-153e-4c3f-a53c-be1e3ea36a49",
   "metadata": {},
   "source": [
    "Run the `daily_rates` function to calculate average number of sites per worker in a given time period, giving both the total days worked during the time period and the average assignments completed. Examples of usage are provided below:\n",
    "\n",
    "1. For all workers across the full project period to date"
   ]
  },
  {
   "cell_type": "code",
   "execution_count": null,
   "id": "e1398d9f-ba3e-4ff4-95b5-17f4cc9a6e30",
   "metadata": {},
   "outputs": [],
   "source": [
    "daily_rates(assignments)"
   ]
  },
  {
   "cell_type": "markdown",
   "id": "cd88be25-b520-44d2-a69f-db0f6f2c5488",
   "metadata": {},
   "source": [
    "2. All workers in a given time period"
   ]
  },
  {
   "cell_type": "code",
   "execution_count": null,
   "id": "5cf17258-9270-44b4-a076-eb9683e5137b",
   "metadata": {},
   "outputs": [],
   "source": [
    "daily_rates(assignments, date_range=[\"2024-01-01\", \"2024-01-21\"])"
   ]
  },
  {
   "cell_type": "markdown",
   "id": "8fb09cb7-dd7f-4a51-8ef1-43c4a5598249",
   "metadata": {},
   "source": [
    "3. Specific workers in a specific date range"
   ]
  },
  {
   "cell_type": "code",
   "execution_count": null,
   "id": "99d8755a-61f1-4c8a-81d9-6f6991a205b3",
   "metadata": {},
   "outputs": [],
   "source": [
    "daily_rates(assignments, workers=[10, 22, 27], date_range=[\"2024-01-01\", \"2024-01-21\"])"
   ]
  },
  {
   "cell_type": "markdown",
   "id": "8c55eadb-73ff-49bc-8838-ac637637578d",
   "metadata": {},
   "source": [
    "### Other queries\n",
    "\n",
    "Custom queries can be written, for example total assignments per day for a specific worker for a specific assignment type"
   ]
  },
  {
   "cell_type": "code",
   "execution_count": null,
   "id": "2cb1e16a-2571-4cd7-856c-766153fc3a2a",
   "metadata": {},
   "outputs": [],
   "source": [
    "(\n",
    "    assignments\n",
    "    .query(\"worker_id==27 & kml_type=='F'\")\n",
    "    .groupby([\"completion_date\"])[\"completion_date\"]\n",
    "    .count()\n",
    "    .plot(kind=\"bar\", figsize=(14,5))\n",
    ")\n",
    "None"
   ]
  }
 ],
 "metadata": {
  "kernelspec": {
   "display_name": "Python 3 (ipykernel)",
   "language": "python",
   "name": "python3"
  },
  "language_info": {
   "codemirror_mode": {
    "name": "ipython",
    "version": 3
   },
   "file_extension": ".py",
   "mimetype": "text/x-python",
   "name": "python",
   "nbconvert_exporter": "python",
   "pygments_lexer": "ipython3",
   "version": "3.10.8"
  }
 },
 "nbformat": 4,
 "nbformat_minor": 5
}
